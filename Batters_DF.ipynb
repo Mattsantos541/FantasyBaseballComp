{
 "cells": [
  {
   "cell_type": "code",
   "execution_count": 1,
   "metadata": {},
   "outputs": [
    {
     "name": "stdout",
     "output_type": "stream",
     "text": [
      "<class 'pandas.core.frame.DataFrame'>\n",
      "RangeIndex: 108789 entries, 0 to 108788\n",
      "Data columns (total 22 columns):\n",
      " #   Column    Non-Null Count   Dtype  \n",
      "---  ------    --------------   -----  \n",
      " 0   playerID  108789 non-null  object \n",
      " 1   yearID    108789 non-null  int64  \n",
      " 2   stint     108789 non-null  int64  \n",
      " 3   teamID    108789 non-null  object \n",
      " 4   lgID      108052 non-null  object \n",
      " 5   G         108789 non-null  int64  \n",
      " 6   AB        108789 non-null  int64  \n",
      " 7   R         108789 non-null  int64  \n",
      " 8   H         108789 non-null  int64  \n",
      " 9   2B        108789 non-null  int64  \n",
      " 10  3B        108789 non-null  int64  \n",
      " 11  HR        108789 non-null  int64  \n",
      " 12  RBI       108033 non-null  float64\n",
      " 13  SB        106421 non-null  float64\n",
      " 14  CS        85248 non-null   float64\n",
      " 15  BB        108789 non-null  int64  \n",
      " 16  SO        106689 non-null  float64\n",
      " 17  IBB       72139 non-null   float64\n",
      " 18  HBP       105973 non-null  float64\n",
      " 19  SH        102721 non-null  float64\n",
      " 20  SF        72686 non-null   float64\n",
      " 21  GIDP      83348 non-null   float64\n",
      "dtypes: float64(9), int64(10), object(3)\n",
      "memory usage: 18.3+ MB\n"
     ]
    }
   ],
   "source": [
    "import pandas as pd\n",
    "\n",
    "df= pd.read_csv(\"Batting_2019.csv\")\n",
    "\n",
    "df= pd.DataFrame(df)\n",
    "\n",
    "df.info()"
   ]
  },
  {
   "cell_type": "code",
   "execution_count": null,
   "metadata": {},
   "outputs": [],
   "source": []
  }
 ],
 "metadata": {
  "kernelspec": {
   "display_name": "Python 3",
   "language": "python",
   "name": "python3"
  },
  "language_info": {
   "codemirror_mode": {
    "name": "ipython",
    "version": 3
   },
   "file_extension": ".py",
   "mimetype": "text/x-python",
   "name": "python",
   "nbconvert_exporter": "python",
   "pygments_lexer": "ipython3",
   "version": "3.8.6"
  }
 },
 "nbformat": 4,
 "nbformat_minor": 4
}
